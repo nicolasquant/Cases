{
  "nbformat": 4,
  "nbformat_minor": 0,
  "metadata": {
    "colab": {
      "provenance": [],
      "authorship_tag": "ABX9TyOOHhn/9QYJ65zl5WEcCRe3",
      "include_colab_link": true
    },
    "kernelspec": {
      "name": "python3",
      "display_name": "Python 3"
    },
    "language_info": {
      "name": "python"
    }
  },
  "cells": [
    {
      "cell_type": "markdown",
      "metadata": {
        "id": "view-in-github",
        "colab_type": "text"
      },
      "source": [
        "<a href=\"https://colab.research.google.com/github/nicolasquant/Cases/blob/main/Case_Kinea/Case_Kinea_Nicolas_Cenedesi.ipynb\" target=\"_parent\"><img src=\"https://colab.research.google.com/assets/colab-badge.svg\" alt=\"Open In Colab\"/></a>"
      ]
    },
    {
      "cell_type": "markdown",
      "source": [
        "#Parte I - Fluxo NTN-B (Com Juros Semestral) + Duration De Macaulay"
      ],
      "metadata": {
        "id": "lQI-sUwgw0qQ"
      }
    },
    {
      "cell_type": "markdown",
      "source": [
        "###Introdução\n",
        "\n",
        "Na realizacao da compra de um titulo publico do tipo NTN-B com juros semestrais, há um fluxo de caixa definido por pagamentos semestrais (cupons), PU (valor a ser pago pelo titulo) e o principal (valor esse a ser recebido no ultimo periodo de recebimento do titulo, junto ao último cupom).\n",
        "\n",
        "No código a seguir, iremos realizar a precificação do título público (obtenção do PU) a partir de algumas variáveis definidas (inputs), como: a taxa real, taxa de cupom, inflação, Valor Nominal Ajustado (VNA) e prazo de vencimento do título.\n",
        "\n",
        "Vale ressaltar que o código a seguir possibilita a adição dessas variáveis de forma manual, adequando-o a qualquer aplicaçaõ voltada à precificação de títulos semelhantes ao NTN-B.\n",
        "\n",
        "Por fim, realizaremos o cálculo da Duration de Macaulay\n",
        "\n",
        "\n",
        "###Definindo as Variáveis fundamentais\n",
        "\n",
        "Possuímos 5 inputs obrigatórios para realizar o cálculo do PU de um NTN-B, dentre eles:\n",
        "\n",
        "$VNA_db$ = Valor Nominal Atualizado na data-sabe (no caso do nosso codigo, nossa data base será referente ao mes 09/2025 onde possui o valor de emissao do titulo já atualizado pela inflacao , porém, a real data base, ou seja, a data de criação do título foi em 15 de Julho de 2000)\n",
        "\n",
        "$IPCA$ = inflação projetada\n",
        "\n",
        "$T$ = prazo de vencimento do título\n",
        "\n",
        "$c$ = taxa de cupom do título (no caso do NTN-B, essa taxa é de 6% a.a)\n",
        "\n",
        "$r$ = taxa real (define o retorno exigido pelo comprador do título e pode variar diariamente dependendo da cotacao do mercado)\n"
      ],
      "metadata": {
        "id": "KfT-1GhZ2T30"
      }
    },
    {
      "cell_type": "code",
      "source": [
        "# ----------------------------------------------------\n",
        "#               INPUTS VARIÁVEIS PRIMARIAS\n",
        "# ----------------------------------------------------\n",
        "\n",
        "# INPUT 1: Taxa Real de Juros Desejada (a.a.)\n",
        "taxa_real_anual = 0.0764  # 7,64% ao ano ( note que ao aumental a taxa, diminuimos o PU final, sera que isso ta certo?) --- sim, esta correto, isso acontece por conta da diminuicao do valor presente consequente da elevacao da taxa real.\n",
        "\n",
        "# INPUT 2: Prazo de Vencimento (em anos)\n",
        "prazo_vencimento_em_anos = 10  # 10 anos (20 semestres)\n",
        "\n",
        "# INPUT 3: IPCA\n",
        "IPCA_proj_anual = 0.0465 # 4,65% ao ano --- note que a alteracao da inflacao nao altera o PU final (sera que isso ta certo)\n",
        "\n",
        "# INPUT 4: Taxa de Cupom (Definida pelo título)\n",
        "taxa_cupom_anual = 0.06 # 6% a.a."
      ],
      "metadata": {
        "id": "BG7-0h1OhWpk"
      },
      "execution_count": 1,
      "outputs": []
    },
    {
      "cell_type": "markdown",
      "source": [
        "### Definicões das variáveis secundárias\n",
        "\n",
        "As variáveis secundárias seriam aquelas dependentes das variáveis primárias antes definidas.\n",
        "Em um cenario geral, as taxas convencionais sao definidas anualmente, porém, para um fluxo de caixa semestral, como o que ocorre na compra de um NTN-B com juros semestral, devemos realizar a conversao das três taxas: IPCA, taxa real, taxa de cupom para periodo semestral.\n",
        "Além disso, devemos definir uma quarta variavel secundária, chamada de Taxa Nominal de Desconto Semestral (Fórmula de Fisher)"
      ],
      "metadata": {
        "id": "354_IeAXh0M4"
      }
    },
    {
      "cell_type": "code",
      "source": [
        "# ----------------------------------------------------\n",
        "#               CÁLCULO VARIÁVEIS SECUNDÁRIAS\n",
        "# ----------------------------------------------------\n",
        "\n",
        "# 1. Parâmetros do Tempo\n",
        "periodos_semestres = prazo_vencimento_em_anos * 2\n",
        "\n",
        "# 2. Taxas Semestrais\n",
        "# Taxa Real Semestral\n",
        "taxa_real_semestral = (1 + taxa_real_anual)**0.5 - 1\n",
        "# Inflação Semestral\n",
        "IPCA_semestral = (1 + IPCA_proj_anual)**0.5 - 1\n",
        "# Taxa Nominal de Desconto Semestral (Fórmula de Fisher)\n",
        "taxa_nominal_semestral = (1 + taxa_real_semestral) * (1 + IPCA_semestral) - 1\n",
        "\n",
        "# Cupom Semestral (%)\n",
        "cupom_semestral_pct = (1 + taxa_cupom_anual)**0.5 - 1"
      ],
      "metadata": {
        "id": "bXok3C4Rj0Yh"
      },
      "execution_count": null,
      "outputs": []
    },
    {
      "cell_type": "markdown",
      "source": [
        "###Cálculo do Preço Unitário\n",
        "\n",
        "O Preço Unitário (PU) é a soma dos valores presentes dos fluxos de caixa. A Duration de Macaulay é a média ponderada do tempo para receber esses fluxos, calculada em semestres e convertida para anos:\n",
        "\n",
        "$$PU = \\sum_{t=1}^{N} VP_t$$\n",
        "\n",
        "Onde $VP_t = \\frac{FC_{Nominal, t}}{(1 + i_{nom})^t}$.\n",
        "\n",
        "$PU$\tPreço Unitário Atual do título (nosso foco)\n",
        "\n",
        "$VP_t$ = Valor Presente do fluxo de caixa no semestre t.\n",
        "\n",
        "$VNA_t$ = Valor Nominal Atualizado no semestre t (reajustado pela inflação semestral).\n",
        "\n",
        "$J_t$\tPagamento do Cupom Nominal no semestre t.\n",
        "\n",
        "$P_t$ Pagamento do Principal Nominal (igual a VNAN, pago apenas no vencimento N).\n",
        "\n",
        "\n",
        "$FC_Nominal$\tFluxo de Caixa Nominal Total no semestre t (Jt​+Pt​).\n",
        "\n",
        "\n",
        "\n",
        "\n",
        "###Duration de Macaulay\n",
        "\n",
        "$$D_{Mac} \\text{ (semestres)} = \\frac{\\sum_{t=1}^{N} t \\times VP_t}{PU}$$\n",
        "\n",
        "$DMac$ Duration de Macaulay (em anos)."
      ],
      "metadata": {
        "id": "HKoW-rkThXK_"
      }
    },
    {
      "cell_type": "code",
      "source": [
        "import numpy as np\n",
        "\n",
        "def calcular_pu_ntnb(taxa_real_anual, prazo_anos, inflacao_projetada_anual=0.04, vna_inicial=4535.996085 , cupom_anual=0.06):\n",
        "    \"\"\"\n",
        "    Calcula o Preço Unitário (PU) de uma NTN-B (Tesouro IPCA com Juros Semestrais).\n",
        "\n",
        "    Args:\n",
        "        taxa_real_anual (float): Taxa real de juros desejada (a.a.), ex: 0.05 para 5%.\n",
        "        prazo_anos (int): Prazo até o vencimento em anos.\n",
        "        inflacao_projetada_anual (float): Inflação (IPCA) projetada (a.a.), ex: 0.04.\n",
        "        vna_inicial (float): Valor Nominal Atualizado inicial de referência. Nesse caso, pegamos o VNA inicial de referencia\n",
        "        cupom_anual (float): Taxa de cupom anual da NTN-B (padrão é 0.06).\n",
        "\n",
        "    Returns:\n",
        "        float: O Preço Unitário (PU) atual do título.\n",
        "    \"\"\"\n",
        "\n",
        "    # Inicializa o PU e o VNA\n",
        "    pu_atual = 0.0\n",
        "    vna_atual = vna_inicial\n",
        "\n",
        "    # --- Tabela de Fluxo de Pagamentos ---\n",
        "    print(\"\\n--- Fluxo de Pagamentos (Valores Nominais) ---\")\n",
        "    print(f\"{'Período (Semestre)':<20} | {'VNA Atualizado (R$)':<20} | {'Cupom (R$)':<15} | {'Principal (R$)':<15} | {'FC Total (R$)':<15} | {'Valor Presente (R$)':<20}\")\n",
        "    print(\"-\" * 130)\n",
        "\n",
        "    # 3. Cálculo do Fluxo e do PU\n",
        "    for t in range(1, periodos_semestres + 1):\n",
        "\n",
        "        # 3.1. Atualização do VNA (pela inflação)\n",
        "        # O VNA é atualizado a cada período pela inflação projetada\n",
        "        vna_atual *= (1 + inflacao_semestral)\n",
        "\n",
        "        # 3.2. Fluxo de Caixa do Período\n",
        "        cupom_nominal = vna_atual * cupom_semestral_pct\n",
        "        principal = 0.0\n",
        "\n",
        "        # O pagamento do principal (VNA final) ocorre apenas no último período\n",
        "        if t == periodos_semestres:\n",
        "            principal = vna_atual\n",
        "\n",
        "        fluxo_caixa_total = cupom_nominal + principal\n",
        "\n",
        "        # 3.3. Desconto a Valor Presente\n",
        "        # O fluxo nominal é descontado pela taxa nominal semestral\n",
        "        fator_desconto = (1 + taxa_nominal_semestral)**t # usamos essa eq pra trazer os cupons a valor presente.\n",
        "        valor_presente = fluxo_caixa_total / fator_desconto\n",
        "\n",
        "        # 3.4. Acumula o PU\n",
        "        pu_atual += valor_presente\n",
        "\n",
        "        # Exibe a linha do fluxo (opcional, mas útil para conferência)\n",
        "        print(f\"{t:<20} | {vna_atual:<20.2f} | {cupom_nominal:<15.2f} | {principal:<15.2f} | {fluxo_caixa_total:<15.2f} | {valor_presente:<20.2f}\")\n",
        "\n",
        "    return pu_atual\n",
        "\n",
        "# ----------------------------------------------------\n",
        "#               EXECUÇÃO\n",
        "# ----------------------------------------------------\n",
        "\n",
        "pu_resultado = calcular_pu_ntnb(\n",
        "    taxa_real_anual=taxa_desejada,\n",
        "    prazo_anos=prazo_vencimento,\n",
        "    inflacao_projetada_anual=inflacao_proj\n",
        ")\n",
        "\n",
        "# ----------------------------------------------------\n",
        "#               OUTPUT FINAL\n",
        "# ----------------------------------------------------\n",
        "\n",
        "print(\"\\n\" + \"=\" * 50)\n",
        "print(f\"Taxa Real de Juros Anual (Input): {taxa_desejada*100:.2f}%\")\n",
        "print(f\"Prazo de Vencimento (Input): {prazo_vencimento} anos\")\n",
        "print(\"-\" * 50)\n",
        "print(f\"**Preço Unitário (PU) Atual do Título:** R$ {pu_resultado:.2f}\")\n",
        "print(\"=\" * 50)"
      ],
      "metadata": {
        "colab": {
          "base_uri": "https://localhost:8080/"
        },
        "id": "-e_dq-Lsw_MH",
        "outputId": "160f12a4-6c6f-4498-e98a-ff7b200026c4"
      },
      "execution_count": null,
      "outputs": [
        {
          "output_type": "stream",
          "name": "stdout",
          "text": [
            "\n",
            "--- Fluxo de Pagamentos (Valores Nominais) ---\n",
            "Período (Semestre)   | VNA Atualizado (R$)  | Cupom (R$)      | Principal (R$)  | FC Total (R$)   | Valor Presente (R$) \n",
            "----------------------------------------------------------------------------------------------------------------------------------\n",
            "1                    | 4640.26              | 137.18          | 0.00            | 137.18          | 129.25              \n",
            "2                    | 4746.92              | 140.33          | 0.00            | 140.33          | 124.58              \n",
            "3                    | 4856.03              | 143.56          | 0.00            | 143.56          | 120.08              \n",
            "4                    | 4967.65              | 146.86          | 0.00            | 146.86          | 115.74              \n",
            "5                    | 5081.84              | 150.23          | 0.00            | 150.23          | 111.55              \n",
            "6                    | 5198.65              | 153.69          | 0.00            | 153.69          | 107.52              \n",
            "7                    | 5318.14              | 157.22          | 0.00            | 157.22          | 103.64              \n",
            "8                    | 5440.38              | 160.83          | 0.00            | 160.83          | 99.89               \n",
            "9                    | 5565.44              | 164.53          | 0.00            | 164.53          | 96.28               \n",
            "10                   | 5693.36              | 168.31          | 0.00            | 168.31          | 92.80               \n",
            "11                   | 5824.23              | 172.18          | 0.00            | 172.18          | 89.45               \n",
            "12                   | 5958.10              | 176.14          | 0.00            | 176.14          | 86.21               \n",
            "13                   | 6095.06              | 180.19          | 0.00            | 180.19          | 83.10               \n",
            "14                   | 6235.16              | 184.33          | 0.00            | 184.33          | 80.10               \n",
            "15                   | 6378.48              | 188.57          | 0.00            | 188.57          | 77.20               \n",
            "16                   | 6525.09              | 192.90          | 0.00            | 192.90          | 74.41               \n",
            "17                   | 6675.07              | 197.34          | 0.00            | 197.34          | 71.72               \n",
            "18                   | 6828.51              | 201.87          | 0.00            | 201.87          | 69.13               \n",
            "19                   | 6985.47              | 206.51          | 0.00            | 206.51          | 66.63               \n",
            "20                   | 7146.03              | 211.26          | 7146.03         | 7357.29         | 2236.60             \n",
            "\n",
            "==================================================\n",
            "Taxa Real de Juros Anual (Input): 7.64%\n",
            "Prazo de Vencimento (Input): 10 anos\n",
            "--------------------------------------------------\n",
            "**Preço Unitário (PU) Atual do Título:** R$ 4035.88\n",
            "==================================================\n"
          ]
        }
      ]
    },
    {
      "cell_type": "code",
      "source": [
        "import numpy as np\n",
        "import matplotlib.pyplot as plt\n",
        "\n",
        "def calcular_pu_ntnb_e_fluxo_completo(taxa_real_anual, prazo_anos, inflacao_projetada_anual=0.0465, vna_inicial=4535.996085, cupom_anual=0.06):\n",
        "    \"\"\"\n",
        "    Calcula o PU e o Fluxo de Caixa Completo:\n",
        "    FC[0] = -PU (Investimento Inicial)\n",
        "    FC[1]...FC[N] = Cupons Nominais + Principal (Entradas)\n",
        "\n",
        "    Retorna: (PU_atual, periodos_com_t0, fluxo_caixa_completo)\n",
        "    \"\"\"\n",
        "    # 1. Parâmetros e Taxas\n",
        "    periodos_semestres = int(prazo_anos * 2)\n",
        "    taxa_real_semestral = (1 + taxa_real_anual)**0.5 - 1\n",
        "    inflacao_semestral = (1 + inflacao_projetada_anual)**0.5 - 1\n",
        "    taxa_nominal_semestral = (1 + taxa_real_semestral) * (1 + inflacao_semestral) - 1\n",
        "    cupom_semestral_pct = (1 + cupom_anual)**0.5 - 1\n",
        "\n",
        "    # Inicializa variáveis\n",
        "    pu_calculado = 0.0\n",
        "    vna_atual = vna_inicial\n",
        "\n",
        "    # Listas para armazenar dados (iniciamos com o t=0)\n",
        "    # A lista de fluxos começa vazia, pois o PU será o primeiro elemento\n",
        "    fluxos_caixa_futuros = []\n",
        "\n",
        "    # 2. Cálculo do PU (Valor de Mercado) e Fluxos Futuros\n",
        "    for t in range(1, periodos_semestres + 1):\n",
        "\n",
        "        # 2.1. Fluxo Nominal no período t\n",
        "        vna_atual *= (1 + inflacao_semestral)\n",
        "        cupom_nominal = vna_atual * cupom_semestral_pct\n",
        "        principal = vna_atual if t == periodos_semestres else 0.0\n",
        "        fluxo_caixa_total_t = cupom_nominal + principal\n",
        "\n",
        "        # 2.2. Cálculo do PU (Desconto a Valor Presente)\n",
        "        fator_desconto = (1 + taxa_nominal_semestral)**t\n",
        "        valor_presente = fluxo_caixa_total_t / fator_desconto\n",
        "        pu_calculado += valor_presente # Acumula o PU\n",
        "\n",
        "        # 2.3. Armazena o Fluxo Nominal Futuro (positivo)\n",
        "        fluxos_caixa_futuros.append(fluxo_caixa_total_t)\n",
        "\n",
        "    # 3. Criação do Fluxo de Caixa Completo (para o gráfico)\n",
        "\n",
        "    # Períodos: 0, 1, 2, ..., N\n",
        "    periodos_com_t0 = [0] + list(range(1, periodos_semestres + 1))\n",
        "\n",
        "    # Fluxo: [ -PU, FC1, FC2, ..., FCN ]\n",
        "    fluxo_caixa_completo = [-pu_calculado] + fluxos_caixa_futuros\n",
        "\n",
        "    return pu_calculado, periodos_com_t0, fluxo_caixa_completo\n",
        "\n",
        "# ----------------------------------------------------\n",
        "#               EXECUÇÃO E PLOTAGEM\n",
        "# ----------------------------------------------------\n",
        "\n",
        "# INPUTS DO SEU CENÁRIO (NTN-B 2035)\n",
        "taxa_desejada = 0.0764\n",
        "prazo_vencimento = 10\n",
        "inflacao_proj = 0.0465\n",
        "vna_base = 4535.996085 # VNA_0 do seu exemplo\n",
        "\n",
        "pu_resultado, periodos, fluxos = calcular_pu_ntnb_e_fluxo_completo(\n",
        "    taxa_real_anual=taxa_desejada,\n",
        "    prazo_anos=prazo_vencimento,\n",
        "    inflacao_projetada_anual=inflacao_proj,\n",
        "    vna_inicial=vna_base\n",
        ")\n",
        "\n",
        "# --- Geração do Gráfico ---\n",
        "plt.figure(figsize=(12, 6))\n",
        "bars = plt.bar(\n",
        "    periodos,\n",
        "    fluxos,\n",
        "    color=['red'] + ['skyblue'] * (len(fluxos) - 2) + ['salmon'] # Vermelho para t=0, Salmão para o vencimento\n",
        ")\n",
        "\n",
        "# Configurações do Gráfico\n",
        "plt.xlabel('Período (Semestre)', fontsize=12)\n",
        "plt.ylabel('Fluxo de Caixa (R$)', fontsize=12)\n",
        "plt.title(\n",
        "    f'Fluxo de Caixa Completo NTN-B (Investimento e Retornos Nominais)',\n",
        "    fontsize=14\n",
        ")\n",
        "# Adiciona a linha zero para distinguir saídas de entradas\n",
        "plt.axhline(0, color='black', linewidth=0.8)\n",
        "plt.xticks(periodos)\n",
        "plt.grid(axis='y', linestyle='--', alpha=0.7)\n",
        "\n",
        "# Adicionar rótulos para o PU e o último fluxo\n",
        "if fluxos:\n",
        "    # Rótulo para o PU (Investimento)\n",
        "    plt.text(periodos[0], fluxos[0], f'R${fluxos[0]:.2f}', ha='center', va='top', fontsize=9, color='black')\n",
        "    # Rótulo para o Vencimento (maior entrada)\n",
        "    last_flow = fluxos[-1]\n",
        "    plt.text(periodos[-1], last_flow, f'R${last_flow:.2f}', ha='center', va='bottom', fontsize=9, rotation=45)\n",
        "\n",
        "plt.tight_layout()\n",
        "plt.show()\n",
        "\n",
        "# --- OUTPUT FINAL ---\n",
        "print(\"\\n\" + \"=\" * 50)\n",
        "print(f\"**Preço Unitário (PU) Calculado:** R$ {pu_resultado:.2f} (Corresponde à Saída em t=0)\")\n",
        "print(\"=\" * 50)"
      ],
      "metadata": {
        "colab": {
          "base_uri": "https://localhost:8080/",
          "height": 674
        },
        "id": "hj6C1Thtcu0v",
        "outputId": "13a6a6bb-43f9-4753-ffec-a74531bcda55"
      },
      "execution_count": null,
      "outputs": [
        {
          "output_type": "display_data",
          "data": {
            "text/plain": [
              "<Figure size 1200x600 with 1 Axes>"
            ],
            "image/png": "[encoded data removed]"
          },
          "metadata": {}
        },
        {
          "output_type": "stream",
          "name": "stdout",
          "text": [
            "\n",
            "==================================================\n",
            "**Preço Unitário (PU) Calculado:** R$ 4035.88 (Corresponde à Saída em t=0)\n",
            "==================================================\n"
          ]
        }
      ]
    },
    {
      "cell_type": "code",
      "source": [
        "import numpy as np\n",
        "\n",
        "def calcular_pu_e_duration_ntnb(taxa_real_anual, prazo_anos, inflacao_projetada_anual=0.04, vna_inicial=1000.0, cupom_anual=0.06):\n",
        "    \"\"\"\n",
        "    Calcula o Preço Unitário (PU) e a Duration de Macaulay de uma NTN-B.\n",
        "\n",
        "    Args:\n",
        "        taxa_real_anual (float): Taxa real de juros desejada (a.a.), ex: 0.05 para 5%. -- retorno exigido, vulgo taxa yield\n",
        "        prazo_anos (int): Prazo até o vencimento em anos.\n",
        "        inflacao_projetada_anual (float): Inflação (IPCA) projetada (a.a.), ex: 0.04.\n",
        "        vna_inicial (float): Valor Nominal Atualizado inicial de referência.\n",
        "        cupom_anual (float): Taxa de cupom anual da NTN-B (padrão é 0.06).\n",
        "\n",
        "    Returns:\n",
        "        tuple: (PU_atual, duration_macaulay_anos)\n",
        "    \"\"\"\n",
        "\n",
        "    # 1. Parâmetros do Tempo\n",
        "    periodos_semestres = prazo_anos * 2\n",
        "\n",
        "    # 2. Taxas Semestrais - conversao de taxas anuais pra taxa semestrais\n",
        "    taxa_real_semestral = (1 + taxa_real_anual)**0.5 - 1\n",
        "    inflacao_semestral = (1 + inflacao_projetada_anual)**0.5 - 1\n",
        "    # Taxa Nominal de Desconto Semestral (Fórmula de Fisher) - ou valor de oportunidade\n",
        "    taxa_nominal_semestral = (1 + taxa_real_semestral) * (1 + inflacao_semestral) - 1\n",
        "\n",
        "    cupom_semestral_pct = (1 + cupom_anual)**0.5 - 1\n",
        "\n",
        "    # Inicializa variáveis\n",
        "    pu_atual = 0.0\n",
        "    vna_atual = vna_inicial\n",
        "    # Variável para a Duration: Soma ponderada dos VPs\n",
        "    soma_vp_ponderado_pelo_tempo = 0.0\n",
        "\n",
        "    # --- Tabela de Fluxo de Pagamentos ---\n",
        "    print(\"\\n--- Fluxo de Pagamentos e Ponderação para Duration ---\")\n",
        "    cabecalho = (\n",
        "        f\"{'Período (Semestre)':<20} | {'VNA Atualizado (R$)':<20} | {'Cupom (R$)':<15} | \"\n",
        "        f\"{'Principal (R$)':<15} | {'FC Total (R$)':<15} | {'Valor Presente (VP) (R$)':<25} | \"\n",
        "        f\"{'VP * Tempo (R$)':<20}\"\n",
        "    )\n",
        "    print(cabecalho)\n",
        "    print(\"-\" * len(cabecalho))\n",
        "\n",
        "    # 3. Cálculo do Fluxo, PU e Ponderação\n",
        "    for t in range(1, periodos_semestres + 1):\n",
        "\n",
        "        # 3.1. Atualização do VNA (pela inflação)\n",
        "        vna_atual *= (1 + inflacao_semestral)\n",
        "\n",
        "        # 3.2. Fluxo de Caixa do Período\n",
        "        cupom_nominal = vna_atual * cupom_semestral_pct\n",
        "        principal = vna_atual if t == periodos_semestres else 0.0\n",
        "        fluxo_caixa_total = cupom_nominal + principal\n",
        "\n",
        "        # 3.3. Desconto a Valor Presente\n",
        "        fator_desconto = (1 + taxa_nominal_semestral)**t\n",
        "        valor_presente = fluxo_caixa_total / fator_desconto\n",
        "\n",
        "        # 3.4. Acumula o PU\n",
        "        pu_atual += valor_presente\n",
        "\n",
        "        # 3.5. Acumula o somatório necessário para a Duration (VP * Tempo)\n",
        "        vp_ponderado_tempo = valor_presente * t\n",
        "        soma_vp_ponderado_pelo_tempo += vp_ponderado_tempo\n",
        "\n",
        "        # Exibe a linha do fluxo\n",
        "        print(\n",
        "            f\"{t:<20} | {vna_atual:<20.2f} | {cupom_nominal:<15.2f} | \"\n",
        "            f\"{principal:<15.2f} | {fluxo_caixa_total:<15.2f} | {valor_presente:<25.2f} | \"\n",
        "            f\"{vp_ponderado_tempo:<20.2f}\"\n",
        "        )\n",
        "\n",
        "    # 4. Cálculo da Duration de Macaulay\n",
        "    # D_Mac (em semestres) = Soma(VP * Tempo) / PU\n",
        "    duration_macaulay_semestres = soma_vp_ponderado_pelo_tempo / pu_atual\n",
        "\n",
        "    # Converte de semestres para anos (1 ano = 2 semestres)\n",
        "    duration_macaulay_anos = duration_macaulay_semestres / 2\n",
        "\n",
        "    return pu_atual, duration_macaulay_anos\n",
        "\n",
        "# ----------------------------------------------------\n",
        "#               INPUTS VARIÁVEIS (EXEMPLO)\n",
        "# ----------------------------------------------------\n",
        "\n",
        "# INPUT 1: Taxa Real de Juros Desejada (a.a.)\n",
        "taxa_desejada = 0.05       # 5,00% ao ano\n",
        "\n",
        "# INPUT 2: Prazo de Vencimento (em anos)\n",
        "prazo_vencimento = 10      # 10 anos (20 semestres)\n",
        "\n",
        "# INFLAÇÃO PROJETADA (a.a.)\n",
        "inflacao_proj = 0.04       # 4,00% ao ano (Placeholder, como discutido)\n",
        "\n",
        "# ----------------------------------------------------\n",
        "#               EXECUÇÃO E OUTPUT FINAL\n",
        "# ----------------------------------------------------\n",
        "\n",
        "pu_resultado, duration_resultado = calcular_pu_e_duration_ntnb(\n",
        "    taxa_real_anual=taxa_desejada,\n",
        "    prazo_anos=prazo_vencimento,\n",
        "    inflacao_projetada_anual=inflacao_proj\n",
        ")\n",
        "\n",
        "print(\"\\n\" + \"=\" * 50)\n",
        "print(f\"Taxa Real de Juros Anual (r): {taxa_desejada*100:.2f}%\")\n",
        "print(f\"Inflação Projetada Anual (π): {inflacao_proj*100:.2f}%\")\n",
        "print(f\"Prazo de Vencimento (T): {prazo_vencimento} anos\")\n",
        "print(\"-\" * 50)\n",
        "print(f\"**Preço Unitário (PU) Atual do Título:** R$ {pu_resultado:.2f}\")\n",
        "print(f\"**Duration de Macaulay:** {duration_resultado:.2f} anos\")\n",
        "print(\"=\" * 50)"
      ],
      "metadata": {
        "colab": {
          "base_uri": "https://localhost:8080/"
        },
        "id": "fgepgbNc2_dM",
        "outputId": "447c785b-e617-44c2-b236-08192c17d6c0"
      },
      "execution_count": null,
      "outputs": [
        {
          "output_type": "stream",
          "name": "stdout",
          "text": [
            "\n",
            "--- Fluxo de Pagamentos e Ponderação para Duration ---\n",
            "Período (Semestre)   | VNA Atualizado (R$)  | Cupom (R$)      | Principal (R$)  | FC Total (R$)   | Valor Presente (VP) (R$)  | VP * Tempo (R$)     \n",
            "----------------------------------------------------------------------------------------------------------------------------------------------------\n",
            "1                    | 1019.80              | 30.15           | 0.00            | 30.15           | 28.85                     | 28.85               \n",
            "2                    | 1040.00              | 30.75           | 0.00            | 30.75           | 28.16                     | 56.31               \n",
            "3                    | 1060.60              | 31.35           | 0.00            | 31.35           | 27.48                     | 82.43               \n",
            "4                    | 1081.60              | 31.98           | 0.00            | 31.98           | 26.81                     | 107.26              \n",
            "5                    | 1103.02              | 32.61           | 0.00            | 32.61           | 26.17                     | 130.84              \n",
            "6                    | 1124.86              | 33.25           | 0.00            | 33.25           | 25.54                     | 153.23              \n",
            "7                    | 1147.14              | 33.91           | 0.00            | 33.91           | 24.92                     | 174.46              \n",
            "8                    | 1169.86              | 34.58           | 0.00            | 34.58           | 24.32                     | 194.57              \n",
            "9                    | 1193.03              | 35.27           | 0.00            | 35.27           | 23.74                     | 213.62              \n",
            "10                   | 1216.65              | 35.97           | 0.00            | 35.97           | 23.16                     | 231.63              \n",
            "11                   | 1240.75              | 36.68           | 0.00            | 36.68           | 22.61                     | 248.66              \n",
            "12                   | 1265.32              | 37.41           | 0.00            | 37.41           | 22.06                     | 264.72              \n",
            "13                   | 1290.38              | 38.15           | 0.00            | 38.15           | 21.53                     | 279.87              \n",
            "14                   | 1315.93              | 38.90           | 0.00            | 38.90           | 21.01                     | 294.14              \n",
            "15                   | 1341.99              | 39.67           | 0.00            | 39.67           | 20.50                     | 307.55              \n",
            "16                   | 1368.57              | 40.46           | 0.00            | 40.46           | 20.01                     | 320.15              \n",
            "17                   | 1395.67              | 41.26           | 0.00            | 41.26           | 19.53                     | 331.96              \n",
            "18                   | 1423.31              | 42.08           | 0.00            | 42.08           | 19.06                     | 343.02              \n",
            "19                   | 1451.50              | 42.91           | 0.00            | 42.91           | 18.60                     | 353.35              \n",
            "20                   | 1480.24              | 43.76           | 1480.24         | 1524.00         | 632.06                    | 12641.25            \n",
            "\n",
            "==================================================\n",
            "Taxa Real de Juros Anual (r): 5.00%\n",
            "Inflação Projetada Anual (π): 4.00%\n",
            "Prazo de Vencimento (T): 10 anos\n",
            "--------------------------------------------------\n",
            "**Preço Unitário (PU) Atual do Título:** R$ 1076.11\n",
            "**Duration de Macaulay:** 7.79 anos\n",
            "==================================================\n"
          ]
        }
      ]
    },
    {
      "cell_type": "markdown",
      "source": [
        "#Parte II - Market Surveillance"
      ],
      "metadata": {
        "id": "sPDI0VjXwtl1"
      }
    },
    {
      "cell_type": "markdown",
      "source": [
        "# Front Running\n"
      ],
      "metadata": {
        "id": "Bpcpg3t4glJi"
      }
    },
    {
      "cell_type": "markdown",
      "source": [
        "# Wash Trading"
      ],
      "metadata": {
        "id": "wxm_vqXIohST"
      }
    },
    {
      "cell_type": "markdown",
      "source": [
        "#Inside Trading"
      ],
      "metadata": {
        "id": "uwPhHflrojWf"
      }
    },
    {
      "cell_type": "markdown",
      "source": [
        "# Layering"
      ],
      "metadata": {
        "id": "0A55Zre1oj46"
      }
    },
    {
      "cell_type": "markdown",
      "source": [
        "# Spoofing"
      ],
      "metadata": {
        "id": "HR5dA4Gi0okf"
      }
    }
  ]
}